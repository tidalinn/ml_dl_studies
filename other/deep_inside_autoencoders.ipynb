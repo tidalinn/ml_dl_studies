{
 "cells": [
  {
   "cell_type": "markdown",
   "metadata": {},
   "source": [
    "# Deep inside: Autoencoders"
   ]
  },
  {
   "cell_type": "markdown",
   "metadata": {},
   "source": [
    "This notebook is the complement of [this blog post](https://towardsdatascience.com/deep-inside-autoencoders-7e41f319999f)"
   ]
  },
  {
   "cell_type": "markdown",
   "metadata": {},
   "source": [
    "4 types of autoencoders are described using the Keras framework and the MNIST dataset"
   ]
  },
  {
   "cell_type": "markdown",
   "metadata": {},
   "source": [
    "1. Vanilla autoencoders\n",
    "2. Multilayer autoencoder\n",
    "3. Convolutional autoencoder\n",
    "4. Regularized autoencoder"
   ]
  },
  {
   "cell_type": "markdown",
   "metadata": {},
   "source": [
    "## Import the libraries"
   ]
  },
  {
   "cell_type": "code",
   "execution_count": 2,
   "metadata": {},
   "outputs": [],
   "source": [
    "import keras\n",
    "import numpy as np\n",
    "import matplotlib.pyplot as plt\n",
    "%matplotlib inline\n",
    "\n",
    "from keras.datasets import mnist\n",
    "from keras.models import Model\n",
    "from keras.layers import Input, add\n",
    "from keras.layers.core import Dense, Dropout, Activation, Flatten, Reshape\n",
    "from keras import regularizers\n",
    "from keras.regularizers import l2\n",
    "from keras.layers.convolutional import Conv2D, MaxPooling2D, UpSampling2D, ZeroPadding2D\n",
    "from keras.utils import np_utils"
   ]
  },
  {
   "cell_type": "markdown",
   "metadata": {},
   "source": [
    "## Load the data"
   ]
  },
  {
   "cell_type": "markdown",
   "metadata": {},
   "source": [
    "We don't need the labels as the autoencoders are unsupervised network"
   ]
  },
  {
   "cell_type": "code",
   "execution_count": 3,
   "metadata": {},
   "outputs": [],
   "source": [
    "(X_train, _), (X_test, _) = mnist.load_data()\n",
    "\n",
    "X_train = X_train.reshape(X_train.shape[0], 28, 28, 1)\n",
    "X_test = X_test.reshape(X_test.shape[0], 28, 28, 1)"
   ]
  },
  {
   "cell_type": "markdown",
   "metadata": {},
   "source": [
    "## Normalize the data"
   ]
  },
  {
   "cell_type": "markdown",
   "metadata": {},
   "source": [
    "We want the pixels values between 0 and 1 instead of between 0 and 255"
   ]
  },
  {
   "cell_type": "code",
   "execution_count": 4,
   "metadata": {},
   "outputs": [
    {
     "name": "stdout",
     "output_type": "stream",
     "text": [
      "X_train shape: (60000, 28, 28, 1)\n",
      "60000 train samples\n",
      "10000 test samples\n"
     ]
    }
   ],
   "source": [
    "X_train = X_train.astype(\"float32\")/255.\n",
    "X_test = X_test.astype(\"float32\")/255.\n",
    "\n",
    "print('X_train shape:', X_train.shape)\n",
    "print(X_train.shape[0], 'train samples')\n",
    "print(X_test.shape[0], 'test samples')"
   ]
  },
  {
   "cell_type": "markdown",
   "metadata": {},
   "source": [
    "## Flatten the images for the Fully-Connected Networks"
   ]
  },
  {
   "cell_type": "code",
   "execution_count": 5,
   "metadata": {},
   "outputs": [],
   "source": [
    "X_train = X_train.reshape((len(X_train), np.prod(X_train.shape[1:])))\n",
    "X_test = X_test.reshape((len(X_test), np.prod(X_test.shape[1:])))"
   ]
  },
  {
   "cell_type": "markdown",
   "metadata": {},
   "source": [
    "___"
   ]
  },
  {
   "cell_type": "markdown",
   "metadata": {},
   "source": [
    "# **Vanilla Autoencoder**"
   ]
  },
  {
   "cell_type": "markdown",
   "metadata": {},
   "source": [
    "### Create the network"
   ]
  },
  {
   "cell_type": "markdown",
   "metadata": {},
   "source": [
    "The first network is the most simple autoencoder. It has three layers : Input - encoded - decoded"
   ]
  },
  {
   "cell_type": "code",
   "execution_count": 6,
   "metadata": {},
   "outputs": [],
   "source": [
    "input_size = 784\n",
    "hidden_size = 64\n",
    "output_size = 784"
   ]
  },
  {
   "cell_type": "code",
   "execution_count": 7,
   "metadata": {},
   "outputs": [],
   "source": [
    "x = Input(shape=(input_size,))\n",
    "h = Dense(hidden_size, activation='relu')(x)\n",
    "r = Dense(output_size, activation='sigmoid')(h)\n",
    "\n",
    "autoencoder = Model(inputs=x, outputs=r)\n",
    "autoencoder.compile(optimizer='adam', loss='mse')"
   ]
  },
  {
   "cell_type": "code",
   "execution_count": 8,
   "metadata": {},
   "outputs": [
    {
     "data": {
      "image/svg+xml": [
       "<svg xmlns=\"http://www.w3.org/2000/svg\" xmlns:xlink=\"http://www.w3.org/1999/xlink\" width=\"190pt\" height=\"255pt\" viewBox=\"0.00 0.00 142.75 191.00\">\n",
       "<g id=\"graph0\" class=\"graph\" transform=\"scale(1.33333 1.33333) rotate(0) translate(4 187)\">\n",
       "<title>G</title>\n",
       "<polygon fill=\"white\" stroke=\"none\" points=\"-4,4 -4,-187 138.75,-187 138.75,4 -4,4\"/>\n",
       "<!-- 1106574540080 -->\n",
       "<g id=\"node1\" class=\"node\">\n",
       "<title>1106574540080</title>\n",
       "<polygon fill=\"none\" stroke=\"black\" points=\"0,-146.5 0,-182.5 134.75,-182.5 134.75,-146.5 0,-146.5\"/>\n",
       "<text text-anchor=\"middle\" x=\"29\" y=\"-159.07\" font-family=\"Times New Roman,serif\" font-size=\"14.00\">input_1</text>\n",
       "<polyline fill=\"none\" stroke=\"black\" points=\"58,-146.5 58,-182.5\"/>\n",
       "<text text-anchor=\"middle\" x=\"96.38\" y=\"-159.07\" font-family=\"Times New Roman,serif\" font-size=\"14.00\">InputLayer</text>\n",
       "</g>\n",
       "<!-- 1106574531104 -->\n",
       "<g id=\"node2\" class=\"node\">\n",
       "<title>1106574531104</title>\n",
       "<polygon fill=\"none\" stroke=\"black\" points=\"18,-73.5 18,-109.5 116.75,-109.5 116.75,-73.5 18,-73.5\"/>\n",
       "<text text-anchor=\"middle\" x=\"42.12\" y=\"-86.08\" font-family=\"Times New Roman,serif\" font-size=\"14.00\">dense</text>\n",
       "<polyline fill=\"none\" stroke=\"black\" points=\"66.25,-73.5 66.25,-109.5\"/>\n",
       "<text text-anchor=\"middle\" x=\"91.5\" y=\"-86.08\" font-family=\"Times New Roman,serif\" font-size=\"14.00\">Dense</text>\n",
       "</g>\n",
       "<!-- 1106574540080&#45;&gt;1106574531104 -->\n",
       "<g id=\"edge1\" class=\"edge\">\n",
       "<title>1106574540080-&gt;1106574531104</title>\n",
       "<path fill=\"none\" stroke=\"black\" d=\"M67.38,-146.67C67.38,-138.72 67.38,-129.01 67.38,-120.02\"/>\n",
       "<polygon fill=\"black\" stroke=\"black\" points=\"70.88,-120.21 67.38,-110.21 63.88,-120.21 70.88,-120.21\"/>\n",
       "</g>\n",
       "<!-- 1107785666368 -->\n",
       "<g id=\"node3\" class=\"node\">\n",
       "<title>1107785666368</title>\n",
       "<polygon fill=\"none\" stroke=\"black\" points=\"10.88,-0.5 10.88,-36.5 123.88,-36.5 123.88,-0.5 10.88,-0.5\"/>\n",
       "<text text-anchor=\"middle\" x=\"42.12\" y=\"-13.07\" font-family=\"Times New Roman,serif\" font-size=\"14.00\">dense_1</text>\n",
       "<polyline fill=\"none\" stroke=\"black\" points=\"73.38,-0.5 73.38,-36.5\"/>\n",
       "<text text-anchor=\"middle\" x=\"98.62\" y=\"-13.07\" font-family=\"Times New Roman,serif\" font-size=\"14.00\">Dense</text>\n",
       "</g>\n",
       "<!-- 1106574531104&#45;&gt;1107785666368 -->\n",
       "<g id=\"edge2\" class=\"edge\">\n",
       "<title>1106574531104-&gt;1107785666368</title>\n",
       "<path fill=\"none\" stroke=\"black\" d=\"M67.38,-73.67C67.38,-65.72 67.38,-56.01 67.38,-47.02\"/>\n",
       "<polygon fill=\"black\" stroke=\"black\" points=\"70.88,-47.21 67.38,-37.21 63.88,-47.21 70.88,-47.21\"/>\n",
       "</g>\n",
       "</g>\n",
       "</svg>"
      ],
      "text/plain": [
       "<IPython.core.display.SVG object>"
      ]
     },
     "execution_count": 8,
     "metadata": {},
     "output_type": "execute_result"
    }
   ],
   "source": [
    "from IPython.display import SVG\n",
    "from keras.utils.vis_utils import model_to_dot\n",
    "\n",
    "SVG(model_to_dot(autoencoder).create(prog='dot', format='svg'))"
   ]
  },
  {
   "cell_type": "markdown",
   "metadata": {},
   "source": [
    "### Train"
   ]
  },
  {
   "cell_type": "code",
   "execution_count": 9,
   "metadata": {},
   "outputs": [
    {
     "name": "stdout",
     "output_type": "stream",
     "text": [
      "Epoch 1/5\n",
      "469/469 [==============================] - 2s 4ms/step - loss: 0.0445 - val_loss: 0.0227\n",
      "Epoch 2/5\n",
      "469/469 [==============================] - 1s 3ms/step - loss: 0.0175 - val_loss: 0.0129\n",
      "Epoch 3/5\n",
      "469/469 [==============================] - 2s 4ms/step - loss: 0.0109 - val_loss: 0.0087\n",
      "Epoch 4/5\n",
      "469/469 [==============================] - 2s 3ms/step - loss: 0.0078 - val_loss: 0.0066\n",
      "Epoch 5/5\n",
      "469/469 [==============================] - 2s 3ms/step - loss: 0.0062 - val_loss: 0.0055\n"
     ]
    }
   ],
   "source": [
    "epochs = 5\n",
    "batch_size = 128\n",
    "\n",
    "history = autoencoder.fit(X_train, X_train, batch_size=batch_size, epochs=epochs, verbose=1, validation_data=(X_test, X_test))"
   ]
  },
  {
   "cell_type": "code",
   "execution_count": 10,
   "metadata": {},
   "outputs": [
    {
     "name": "stdout",
     "output_type": "stream",
     "text": [
      "313/313 [==============================] - 0s 990us/step\n"
     ]
    },
    {
     "data": {
      "image/png": "[encoded data removed]",
      "text/plain": [
       "<Figure size 2000x800 with 10 Axes>"
      ]
     },
     "metadata": {},
     "output_type": "display_data"
    }
   ],
   "source": [
    "conv_encoder = Model(x, h)\n",
    "encoded_imgs = conv_encoder.predict(X_test)\n",
    "\n",
    "n = 10\n",
    "plt.figure(figsize=(20, 8))\n",
    "for i in range(n):\n",
    "    ax = plt.subplot(1, n, i+1)\n",
    "    plt.imshow(encoded_imgs[i].reshape(4, 16).T)\n",
    "    plt.gray()\n",
    "    ax.get_xaxis().set_visible(False)\n",
    "    ax.get_yaxis().set_visible(False)\n",
    "plt.show()"
   ]
  },
  {
   "cell_type": "markdown",
   "metadata": {},
   "source": [
    "### Predict on the test set"
   ]
  },
  {
   "cell_type": "code",
   "execution_count": 11,
   "metadata": {},
   "outputs": [
    {
     "name": "stdout",
     "output_type": "stream",
     "text": [
      "313/313 [==============================] - 0s 1ms/step\n"
     ]
    }
   ],
   "source": [
    "decoded_imgs = autoencoder.predict(X_test)"
   ]
  },
  {
   "cell_type": "markdown",
   "metadata": {},
   "source": [
    "### Plot"
   ]
  },
  {
   "cell_type": "code",
   "execution_count": 12,
   "metadata": {},
   "outputs": [
    {
     "data": {
      "image/png": "[encoded data removed]",
      "text/plain": [
       "<Figure size 2000x600 with 20 Axes>"
      ]
     },
     "metadata": {},
     "output_type": "display_data"
    }
   ],
   "source": [
    "n = 10\n",
    "plt.figure(figsize=(20, 6))\n",
    "for i in range(n):\n",
    "    # display original\n",
    "    ax = plt.subplot(3, n, i+1)\n",
    "    plt.imshow(X_test[i].reshape(28, 28))\n",
    "    plt.gray()\n",
    "    ax.get_xaxis().set_visible(False)\n",
    "    ax.get_yaxis().set_visible(False)\n",
    "\n",
    "    \n",
    "    # display reconstruction\n",
    "    ax = plt.subplot(3, n, i+n+1)\n",
    "    plt.imshow(decoded_imgs[i].reshape(28, 28))\n",
    "    plt.gray()\n",
    "    ax.get_xaxis().set_visible(False)\n",
    "    ax.get_yaxis().set_visible(False)\n",
    "    \n",
    "plt.show()"
   ]
  },
  {
   "cell_type": "markdown",
   "metadata": {},
   "source": [
    "### Plot the losses"
   ]
  },
  {
   "cell_type": "code",
   "execution_count": 13,
   "metadata": {},
   "outputs": [
    {
     "name": "stdout",
     "output_type": "stream",
     "text": [
      "dict_keys(['loss', 'val_loss'])\n"
     ]
    },
    {
     "data": {
      "image/png": "[encoded data removed]",
      "text/plain": [
       "<Figure size 640x480 with 1 Axes>"
      ]
     },
     "metadata": {},
     "output_type": "display_data"
    }
   ],
   "source": [
    "print(history.history.keys())\n",
    "\n",
    "plt.plot(history.history['loss'])\n",
    "plt.plot(history.history['val_loss'])\n",
    "plt.title('model loss')\n",
    "plt.ylabel('loss')\n",
    "plt.xlabel('epoch')\n",
    "plt.legend(['train', 'validation'], loc='upper right')\n",
    "plt.show()"
   ]
  },
  {
   "cell_type": "markdown",
   "metadata": {},
   "source": [
    "---"
   ]
  },
  {
   "cell_type": "markdown",
   "metadata": {},
   "source": [
    "# **Multilayer autoencoder**"
   ]
  },
  {
   "cell_type": "markdown",
   "metadata": {},
   "source": [
    "### Create the network"
   ]
  },
  {
   "cell_type": "markdown",
   "metadata": {},
   "source": [
    "We extend the idea of the first network to more layers"
   ]
  },
  {
   "cell_type": "code",
   "execution_count": 14,
   "metadata": {},
   "outputs": [],
   "source": [
    "input_size = 784\n",
    "hidden_size = 128\n",
    "code_size = 64\n",
    "\n",
    "x = Input(shape=(input_size,))\n",
    "hidden_1 = Dense(hidden_size, activation='relu')(x)\n",
    "h = Dense(code_size, activation='relu')(hidden_1)\n",
    "hidden_2 = Dense(hidden_size, activation='relu')(h)\n",
    "r = Dense(input_size, activation='sigmoid')(hidden_2)\n",
    "\n",
    "autoencoder = Model(inputs=x, outputs=r)\n",
    "autoencoder.compile(optimizer='adam', loss='mse')"
   ]
  },
  {
   "cell_type": "code",
   "execution_count": 15,
   "metadata": {},
   "outputs": [
    {
     "data": {
      "image/svg+xml": [
       "<svg xmlns=\"http://www.w3.org/2000/svg\" xmlns:xlink=\"http://www.w3.org/1999/xlink\" width=\"190pt\" height=\"449pt\" viewBox=\"0.00 0.00 142.75 337.00\">\n",
       "<g id=\"graph0\" class=\"graph\" transform=\"scale(1.33333 1.33333) rotate(0) translate(4 333)\">\n",
       "<title>G</title>\n",
       "<polygon fill=\"white\" stroke=\"none\" points=\"-4,4 -4,-333 138.75,-333 138.75,4 -4,4\"/>\n",
       "<!-- 1106647954864 -->\n",
       "<g id=\"node1\" class=\"node\">\n",
       "<title>1106647954864</title>\n",
       "<polygon fill=\"none\" stroke=\"black\" points=\"0,-292.5 0,-328.5 134.75,-328.5 134.75,-292.5 0,-292.5\"/>\n",
       "<text text-anchor=\"middle\" x=\"29\" y=\"-305.07\" font-family=\"Times New Roman,serif\" font-size=\"14.00\">input_2</text>\n",
       "<polyline fill=\"none\" stroke=\"black\" points=\"58,-292.5 58,-328.5\"/>\n",
       "<text text-anchor=\"middle\" x=\"96.38\" y=\"-305.07\" font-family=\"Times New Roman,serif\" font-size=\"14.00\">InputLayer</text>\n",
       "</g>\n",
       "<!-- 1106647951648 -->\n",
       "<g id=\"node2\" class=\"node\">\n",
       "<title>1106647951648</title>\n",
       "<polygon fill=\"none\" stroke=\"black\" points=\"10.88,-219.5 10.88,-255.5 123.88,-255.5 123.88,-219.5 10.88,-219.5\"/>\n",
       "<text text-anchor=\"middle\" x=\"42.12\" y=\"-232.07\" font-family=\"Times New Roman,serif\" font-size=\"14.00\">dense_2</text>\n",
       "<polyline fill=\"none\" stroke=\"black\" points=\"73.38,-219.5 73.38,-255.5\"/>\n",
       "<text text-anchor=\"middle\" x=\"98.62\" y=\"-232.07\" font-family=\"Times New Roman,serif\" font-size=\"14.00\">Dense</text>\n",
       "</g>\n",
       "<!-- 1106647954864&#45;&gt;1106647951648 -->\n",
       "<g id=\"edge1\" class=\"edge\">\n",
       "<title>1106647954864-&gt;1106647951648</title>\n",
       "<path fill=\"none\" stroke=\"black\" d=\"M67.38,-292.67C67.38,-284.72 67.38,-275.01 67.38,-266.02\"/>\n",
       "<polygon fill=\"black\" stroke=\"black\" points=\"70.88,-266.21 67.38,-256.21 63.88,-266.21 70.88,-266.21\"/>\n",
       "</g>\n",
       "<!-- 1106647957264 -->\n",
       "<g id=\"node3\" class=\"node\">\n",
       "<title>1106647957264</title>\n",
       "<polygon fill=\"none\" stroke=\"black\" points=\"10.88,-146.5 10.88,-182.5 123.88,-182.5 123.88,-146.5 10.88,-146.5\"/>\n",
       "<text text-anchor=\"middle\" x=\"42.12\" y=\"-159.07\" font-family=\"Times New Roman,serif\" font-size=\"14.00\">dense_3</text>\n",
       "<polyline fill=\"none\" stroke=\"black\" points=\"73.38,-146.5 73.38,-182.5\"/>\n",
       "<text text-anchor=\"middle\" x=\"98.62\" y=\"-159.07\" font-family=\"Times New Roman,serif\" font-size=\"14.00\">Dense</text>\n",
       "</g>\n",
       "<!-- 1106647951648&#45;&gt;1106647957264 -->\n",
       "<g id=\"edge2\" class=\"edge\">\n",
       "<title>1106647951648-&gt;1106647957264</title>\n",
       "<path fill=\"none\" stroke=\"black\" d=\"M67.38,-219.67C67.38,-211.72 67.38,-202.01 67.38,-193.02\"/>\n",
       "<polygon fill=\"black\" stroke=\"black\" points=\"70.88,-193.21 67.38,-183.21 63.88,-193.21 70.88,-193.21\"/>\n",
       "</g>\n",
       "<!-- 1106647951552 -->\n",
       "<g id=\"node4\" class=\"node\">\n",
       "<title>1106647951552</title>\n",
       "<polygon fill=\"none\" stroke=\"black\" points=\"10.88,-73.5 10.88,-109.5 123.88,-109.5 123.88,-73.5 10.88,-73.5\"/>\n",
       "<text text-anchor=\"middle\" x=\"42.12\" y=\"-86.08\" font-family=\"Times New Roman,serif\" font-size=\"14.00\">dense_4</text>\n",
       "<polyline fill=\"none\" stroke=\"black\" points=\"73.38,-73.5 73.38,-109.5\"/>\n",
       "<text text-anchor=\"middle\" x=\"98.62\" y=\"-86.08\" font-family=\"Times New Roman,serif\" font-size=\"14.00\">Dense</text>\n",
       "</g>\n",
       "<!-- 1106647957264&#45;&gt;1106647951552 -->\n",
       "<g id=\"edge3\" class=\"edge\">\n",
       "<title>1106647957264-&gt;1106647951552</title>\n",
       "<path fill=\"none\" stroke=\"black\" d=\"M67.38,-146.67C67.38,-138.72 67.38,-129.01 67.38,-120.02\"/>\n",
       "<polygon fill=\"black\" stroke=\"black\" points=\"70.88,-120.21 67.38,-110.21 63.88,-120.21 70.88,-120.21\"/>\n",
       "</g>\n",
       "<!-- 1106819281344 -->\n",
       "<g id=\"node5\" class=\"node\">\n",
       "<title>1106819281344</title>\n",
       "<polygon fill=\"none\" stroke=\"black\" points=\"10.88,-0.5 10.88,-36.5 123.88,-36.5 123.88,-0.5 10.88,-0.5\"/>\n",
       "<text text-anchor=\"middle\" x=\"42.12\" y=\"-13.07\" font-family=\"Times New Roman,serif\" font-size=\"14.00\">dense_5</text>\n",
       "<polyline fill=\"none\" stroke=\"black\" points=\"73.38,-0.5 73.38,-36.5\"/>\n",
       "<text text-anchor=\"middle\" x=\"98.62\" y=\"-13.07\" font-family=\"Times New Roman,serif\" font-size=\"14.00\">Dense</text>\n",
       "</g>\n",
       "<!-- 1106647951552&#45;&gt;1106819281344 -->\n",
       "<g id=\"edge4\" class=\"edge\">\n",
       "<title>1106647951552-&gt;1106819281344</title>\n",
       "<path fill=\"none\" stroke=\"black\" d=\"M67.38,-73.67C67.38,-65.72 67.38,-56.01 67.38,-47.02\"/>\n",
       "<polygon fill=\"black\" stroke=\"black\" points=\"70.88,-47.21 67.38,-37.21 63.88,-47.21 70.88,-47.21\"/>\n",
       "</g>\n",
       "</g>\n",
       "</svg>"
      ],
      "text/plain": [
       "<IPython.core.display.SVG object>"
      ]
     },
     "execution_count": 15,
     "metadata": {},
     "output_type": "execute_result"
    }
   ],
   "source": [
    "from IPython.display import SVG\n",
    "from keras.utils.vis_utils import model_to_dot\n",
    "\n",
    "SVG(model_to_dot(autoencoder).create(prog='dot', format='svg'))"
   ]
  },
  {
   "cell_type": "markdown",
   "metadata": {},
   "source": [
    "### Train the network"
   ]
  },
  {
   "cell_type": "code",
   "execution_count": 16,
   "metadata": {},
   "outputs": [
    {
     "name": "stdout",
     "output_type": "stream",
     "text": [
      "Epoch 1/5\n",
      "469/469 [==============================] - 2s 5ms/step - loss: 0.0409 - val_loss: 0.0191\n",
      "Epoch 2/5\n",
      "469/469 [==============================] - 2s 4ms/step - loss: 0.0157 - val_loss: 0.0126\n",
      "Epoch 3/5\n",
      "469/469 [==============================] - 2s 5ms/step - loss: 0.0116 - val_loss: 0.0101\n",
      "Epoch 4/5\n",
      "469/469 [==============================] - 2s 4ms/step - loss: 0.0097 - val_loss: 0.0087\n",
      "Epoch 5/5\n",
      "469/469 [==============================] - 2s 4ms/step - loss: 0.0086 - val_loss: 0.0078\n"
     ]
    }
   ],
   "source": [
    "epochs = 5\n",
    "batch_size = 128\n",
    "\n",
    "history = autoencoder.fit(X_train, X_train, batch_size=batch_size, epochs=epochs, verbose=1, validation_data=(X_test, X_test))"
   ]
  },
  {
   "cell_type": "markdown",
   "metadata": {},
   "source": [
    "### Predict on the test set"
   ]
  },
  {
   "cell_type": "code",
   "execution_count": 17,
   "metadata": {},
   "outputs": [
    {
     "name": "stdout",
     "output_type": "stream",
     "text": [
      "313/313 [==============================] - 1s 2ms/step\n"
     ]
    }
   ],
   "source": [
    "decoded_imgs = autoencoder.predict(X_test)"
   ]
  },
  {
   "cell_type": "markdown",
   "metadata": {},
   "source": [
    "### Plot"
   ]
  },
  {
   "cell_type": "code",
   "execution_count": 18,
   "metadata": {},
   "outputs": [
    {
     "data": {
      "image/png": "[encoded data removed]",
      "text/plain": [
       "<Figure size 2000x600 with 20 Axes>"
      ]
     },
     "metadata": {},
     "output_type": "display_data"
    }
   ],
   "source": [
    "n = 10\n",
    "plt.figure(figsize=(20, 6))\n",
    "for i in range(n):\n",
    "    # display original\n",
    "    ax = plt.subplot(3, n, i+1)\n",
    "    plt.imshow(X_test[i].reshape(28, 28))\n",
    "    plt.gray()\n",
    "    ax.get_xaxis().set_visible(False)\n",
    "    ax.get_yaxis().set_visible(False)\n",
    "\n",
    "    \n",
    "    # display reconstruction\n",
    "    ax = plt.subplot(3, n, i+n+1)\n",
    "    plt.imshow(decoded_imgs[i].reshape(28, 28))\n",
    "    plt.gray()\n",
    "    ax.get_xaxis().set_visible(False)\n",
    "    ax.get_yaxis().set_visible(False)\n",
    "    \n",
    "plt.show()"
   ]
  },
  {
   "cell_type": "markdown",
   "metadata": {},
   "source": [
    "### Plot the losses"
   ]
  },
  {
   "cell_type": "code",
   "execution_count": 19,
   "metadata": {},
   "outputs": [
    {
     "name": "stdout",
     "output_type": "stream",
     "text": [
      "dict_keys(['loss', 'val_loss'])\n"
     ]
    },
    {
     "data": {
      "image/png": "[encoded data removed]",
      "text/plain": [
       "<Figure size 640x480 with 1 Axes>"
      ]
     },
     "metadata": {},
     "output_type": "display_data"
    }
   ],
   "source": [
    "print(history.history.keys())\n",
    "\n",
    "plt.plot(history.history['loss'])\n",
    "plt.plot(history.history['val_loss'])\n",
    "plt.title('model loss')\n",
    "plt.ylabel('loss')\n",
    "plt.xlabel('epoch')\n",
    "plt.legend(['train', 'validation'], loc='upper right')\n",
    "plt.show()"
   ]
  },
  {
   "cell_type": "markdown",
   "metadata": {},
   "source": [
    "___"
   ]
  },
  {
   "cell_type": "markdown",
   "metadata": {},
   "source": [
    "# **Convolutional autoencoder**"
   ]
  },
  {
   "cell_type": "code",
   "execution_count": 20,
   "metadata": {},
   "outputs": [
    {
     "name": "stdout",
     "output_type": "stream",
     "text": [
      "X_train shape: (60000, 28, 28, 1)\n",
      "60000 train samples\n",
      "10000 test samples\n"
     ]
    }
   ],
   "source": [
    "nb_classes = 10\n",
    "\n",
    "(X_train, y_train), (X_test, y_test) = mnist.load_data()\n",
    "\n",
    "X_train = X_train.reshape(X_train.shape[0], 28, 28, 1)\n",
    "X_test = X_test.reshape(X_test.shape[0], 28, 28, 1)\n",
    "X_train = X_train.astype(\"float32\")/255.\n",
    "X_test = X_test.astype(\"float32\")/255.\n",
    "print('X_train shape:', X_train.shape)\n",
    "print(X_train.shape[0], 'train samples')\n",
    "print(X_test.shape[0], 'test samples')\n",
    "\n",
    "y_train = np_utils.to_categorical(y_train, nb_classes)\n",
    "y_test = np_utils.to_categorical(y_test, nb_classes)"
   ]
  },
  {
   "cell_type": "markdown",
   "metadata": {},
   "source": [
    "### Create the network"
   ]
  },
  {
   "cell_type": "markdown",
   "metadata": {},
   "source": [
    "This network does not take flattened vectors as an input but images"
   ]
  },
  {
   "cell_type": "code",
   "execution_count": 21,
   "metadata": {},
   "outputs": [],
   "source": [
    "x = Input(shape=(28, 28,1)) \n",
    "\n",
    "# Encoder\n",
    "conv1_1 = Conv2D(16, (3, 3), activation='relu', padding='same')(x)\n",
    "pool1 = MaxPooling2D((2, 2), padding='same')(conv1_1)\n",
    "conv1_2 = Conv2D(8, (3, 3), activation='relu', padding='same')(pool1)\n",
    "pool2 = MaxPooling2D((2, 2), padding='same')(conv1_2)\n",
    "conv1_3 = Conv2D(8, (3, 3), activation='relu', padding='same')(pool2)\n",
    "h = MaxPooling2D((2, 2), padding='same')(conv1_3)\n",
    "\n",
    "\n",
    "# Decoder\n",
    "conv2_1 = Conv2D(8, (3, 3), activation='relu', padding='same')(h)\n",
    "up1 = UpSampling2D((2, 2))(conv2_1)\n",
    "conv2_2 = Conv2D(8, (3, 3), activation='relu', padding='same')(up1)\n",
    "up2 = UpSampling2D((2, 2))(conv2_2)\n",
    "conv2_3 = Conv2D(16, (3, 3), activation='relu')(up2)\n",
    "up3 = UpSampling2D((2, 2))(conv2_3)\n",
    "r = Conv2D(1, (3, 3), activation='sigmoid', padding='same')(up3)\n",
    "\n",
    "autoencoder = Model(inputs=x, outputs=r)\n",
    "autoencoder.compile(optimizer='adadelta', loss='binary_crossentropy')"
   ]
  },
  {
   "cell_type": "code",
   "execution_count": 22,
   "metadata": {},
   "outputs": [
    {
     "data": {
      "image/svg+xml": [
       "<svg xmlns=\"http://www.w3.org/2000/svg\" xmlns:xlink=\"http://www.w3.org/1999/xlink\" width=\"300pt\" height=\"1325pt\" viewBox=\"0.00 0.00 225.25 994.00\">\n",
       "<g id=\"graph0\" class=\"graph\" transform=\"scale(1.33333 1.33333) rotate(0) translate(4 990)\">\n",
       "<title>G</title>\n",
       "<polygon fill=\"white\" stroke=\"none\" points=\"-4,4 -4,-990 221.25,-990 221.25,4 -4,4\"/>\n",
       "<!-- 1106831777152 -->\n",
       "<g id=\"node1\" class=\"node\">\n",
       "<title>1106831777152</title>\n",
       "<polygon fill=\"none\" stroke=\"black\" points=\"41.25,-949.5 41.25,-985.5 176,-985.5 176,-949.5 41.25,-949.5\"/>\n",
       "<text text-anchor=\"middle\" x=\"70.25\" y=\"-962.08\" font-family=\"Times New Roman,serif\" font-size=\"14.00\">input_3</text>\n",
       "<polyline fill=\"none\" stroke=\"black\" points=\"99.25,-949.5 99.25,-985.5\"/>\n",
       "<text text-anchor=\"middle\" x=\"137.62\" y=\"-962.08\" font-family=\"Times New Roman,serif\" font-size=\"14.00\">InputLayer</text>\n",
       "</g>\n",
       "<!-- 1106831777248 -->\n",
       "<g id=\"node2\" class=\"node\">\n",
       "<title>1106831777248</title>\n",
       "<polygon fill=\"none\" stroke=\"black\" points=\"48,-876.5 48,-912.5 169.25,-912.5 169.25,-876.5 48,-876.5\"/>\n",
       "<text text-anchor=\"middle\" x=\"77\" y=\"-889.08\" font-family=\"Times New Roman,serif\" font-size=\"14.00\">conv2d</text>\n",
       "<polyline fill=\"none\" stroke=\"black\" points=\"106,-876.5 106,-912.5\"/>\n",
       "<text text-anchor=\"middle\" x=\"137.62\" y=\"-889.08\" font-family=\"Times New Roman,serif\" font-size=\"14.00\">Conv2D</text>\n",
       "</g>\n",
       "<!-- 1106831777152&#45;&gt;1106831777248 -->\n",
       "<g id=\"edge1\" class=\"edge\">\n",
       "<title>1106831777152-&gt;1106831777248</title>\n",
       "<path fill=\"none\" stroke=\"black\" d=\"M108.62,-949.67C108.62,-941.72 108.62,-932.01 108.62,-923.02\"/>\n",
       "<polygon fill=\"black\" stroke=\"black\" points=\"112.13,-923.21 108.62,-913.21 105.13,-923.21 112.13,-923.21\"/>\n",
       "</g>\n",
       "<!-- 1106831776192 -->\n",
       "<g id=\"node3\" class=\"node\">\n",
       "<title>1106831776192</title>\n",
       "<polygon fill=\"none\" stroke=\"black\" points=\"7.12,-803.5 7.12,-839.5 210.12,-839.5 210.12,-803.5 7.12,-803.5\"/>\n",
       "<text text-anchor=\"middle\" x=\"58.62\" y=\"-816.08\" font-family=\"Times New Roman,serif\" font-size=\"14.00\">max_pooling2d</text>\n",
       "<polyline fill=\"none\" stroke=\"black\" points=\"110.12,-803.5 110.12,-839.5\"/>\n",
       "<text text-anchor=\"middle\" x=\"160.12\" y=\"-816.08\" font-family=\"Times New Roman,serif\" font-size=\"14.00\">MaxPooling2D</text>\n",
       "</g>\n",
       "<!-- 1106831777248&#45;&gt;1106831776192 -->\n",
       "<g id=\"edge2\" class=\"edge\">\n",
       "<title>1106831777248-&gt;1106831776192</title>\n",
       "<path fill=\"none\" stroke=\"black\" d=\"M108.62,-876.67C108.62,-868.72 108.62,-859.01 108.62,-850.02\"/>\n",
       "<polygon fill=\"black\" stroke=\"black\" points=\"112.13,-850.21 108.62,-840.21 105.13,-850.21 112.13,-850.21\"/>\n",
       "</g>\n",
       "<!-- 1106831777008 -->\n",
       "<g id=\"node4\" class=\"node\">\n",
       "<title>1106831777008</title>\n",
       "<polygon fill=\"none\" stroke=\"black\" points=\"40.88,-730.5 40.88,-766.5 176.38,-766.5 176.38,-730.5 40.88,-730.5\"/>\n",
       "<text text-anchor=\"middle\" x=\"77\" y=\"-743.08\" font-family=\"Times New Roman,serif\" font-size=\"14.00\">conv2d_1</text>\n",
       "<polyline fill=\"none\" stroke=\"black\" points=\"113.12,-730.5 113.12,-766.5\"/>\n",
       "<text text-anchor=\"middle\" x=\"144.75\" y=\"-743.08\" font-family=\"Times New Roman,serif\" font-size=\"14.00\">Conv2D</text>\n",
       "</g>\n",
       "<!-- 1106831776192&#45;&gt;1106831777008 -->\n",
       "<g id=\"edge3\" class=\"edge\">\n",
       "<title>1106831776192-&gt;1106831777008</title>\n",
       "<path fill=\"none\" stroke=\"black\" d=\"M108.62,-803.67C108.62,-795.72 108.62,-786.01 108.62,-777.02\"/>\n",
       "<polygon fill=\"black\" stroke=\"black\" points=\"112.13,-777.21 108.62,-767.21 105.13,-777.21 112.13,-777.21\"/>\n",
       "</g>\n",
       "<!-- 1106558688784 -->\n",
       "<g id=\"node5\" class=\"node\">\n",
       "<title>1106558688784</title>\n",
       "<polygon fill=\"none\" stroke=\"black\" points=\"0,-657.5 0,-693.5 217.25,-693.5 217.25,-657.5 0,-657.5\"/>\n",
       "<text text-anchor=\"middle\" x=\"58.62\" y=\"-670.08\" font-family=\"Times New Roman,serif\" font-size=\"14.00\">max_pooling2d_1</text>\n",
       "<polyline fill=\"none\" stroke=\"black\" points=\"117.25,-657.5 117.25,-693.5\"/>\n",
       "<text text-anchor=\"middle\" x=\"167.25\" y=\"-670.08\" font-family=\"Times New Roman,serif\" font-size=\"14.00\">MaxPooling2D</text>\n",
       "</g>\n",
       "<!-- 1106831777008&#45;&gt;1106558688784 -->\n",
       "<g id=\"edge4\" class=\"edge\">\n",
       "<title>1106831777008-&gt;1106558688784</title>\n",
       "<path fill=\"none\" stroke=\"black\" d=\"M108.62,-730.67C108.62,-722.72 108.62,-713.01 108.62,-704.02\"/>\n",
       "<polygon fill=\"black\" stroke=\"black\" points=\"112.13,-704.21 108.62,-694.21 105.13,-704.21 112.13,-704.21\"/>\n",
       "</g>\n",
       "<!-- 1106820199136 -->\n",
       "<g id=\"node6\" class=\"node\">\n",
       "<title>1106820199136</title>\n",
       "<polygon fill=\"none\" stroke=\"black\" points=\"40.88,-584.5 40.88,-620.5 176.38,-620.5 176.38,-584.5 40.88,-584.5\"/>\n",
       "<text text-anchor=\"middle\" x=\"77\" y=\"-597.08\" font-family=\"Times New Roman,serif\" font-size=\"14.00\">conv2d_2</text>\n",
       "<polyline fill=\"none\" stroke=\"black\" points=\"113.12,-584.5 113.12,-620.5\"/>\n",
       "<text text-anchor=\"middle\" x=\"144.75\" y=\"-597.08\" font-family=\"Times New Roman,serif\" font-size=\"14.00\">Conv2D</text>\n",
       "</g>\n",
       "<!-- 1106558688784&#45;&gt;1106820199136 -->\n",
       "<g id=\"edge5\" class=\"edge\">\n",
       "<title>1106558688784-&gt;1106820199136</title>\n",
       "<path fill=\"none\" stroke=\"black\" d=\"M108.62,-657.67C108.62,-649.72 108.62,-640.01 108.62,-631.02\"/>\n",
       "<polygon fill=\"black\" stroke=\"black\" points=\"112.13,-631.21 108.62,-621.21 105.13,-631.21 112.13,-631.21\"/>\n",
       "</g>\n",
       "<!-- 1106820192752 -->\n",
       "<g id=\"node7\" class=\"node\">\n",
       "<title>1106820192752</title>\n",
       "<polygon fill=\"none\" stroke=\"black\" points=\"0,-511.5 0,-547.5 217.25,-547.5 217.25,-511.5 0,-511.5\"/>\n",
       "<text text-anchor=\"middle\" x=\"58.62\" y=\"-524.08\" font-family=\"Times New Roman,serif\" font-size=\"14.00\">max_pooling2d_2</text>\n",
       "<polyline fill=\"none\" stroke=\"black\" points=\"117.25,-511.5 117.25,-547.5\"/>\n",
       "<text text-anchor=\"middle\" x=\"167.25\" y=\"-524.08\" font-family=\"Times New Roman,serif\" font-size=\"14.00\">MaxPooling2D</text>\n",
       "</g>\n",
       "<!-- 1106820199136&#45;&gt;1106820192752 -->\n",
       "<g id=\"edge6\" class=\"edge\">\n",
       "<title>1106820199136-&gt;1106820192752</title>\n",
       "<path fill=\"none\" stroke=\"black\" d=\"M108.62,-584.67C108.62,-576.72 108.62,-567.01 108.62,-558.02\"/>\n",
       "<polygon fill=\"black\" stroke=\"black\" points=\"112.13,-558.21 108.62,-548.21 105.13,-558.21 112.13,-558.21\"/>\n",
       "</g>\n",
       "<!-- 1106820198992 -->\n",
       "<g id=\"node8\" class=\"node\">\n",
       "<title>1106820198992</title>\n",
       "<polygon fill=\"none\" stroke=\"black\" points=\"40.88,-438.5 40.88,-474.5 176.38,-474.5 176.38,-438.5 40.88,-438.5\"/>\n",
       "<text text-anchor=\"middle\" x=\"77\" y=\"-451.07\" font-family=\"Times New Roman,serif\" font-size=\"14.00\">conv2d_3</text>\n",
       "<polyline fill=\"none\" stroke=\"black\" points=\"113.12,-438.5 113.12,-474.5\"/>\n",
       "<text text-anchor=\"middle\" x=\"144.75\" y=\"-451.07\" font-family=\"Times New Roman,serif\" font-size=\"14.00\">Conv2D</text>\n",
       "</g>\n",
       "<!-- 1106820192752&#45;&gt;1106820198992 -->\n",
       "<g id=\"edge7\" class=\"edge\">\n",
       "<title>1106820192752-&gt;1106820198992</title>\n",
       "<path fill=\"none\" stroke=\"black\" d=\"M108.62,-511.67C108.62,-503.72 108.62,-494.01 108.62,-485.02\"/>\n",
       "<polygon fill=\"black\" stroke=\"black\" points=\"112.13,-485.21 108.62,-475.21 105.13,-485.21 112.13,-485.21\"/>\n",
       "</g>\n",
       "<!-- 1106820197552 -->\n",
       "<g id=\"node9\" class=\"node\">\n",
       "<title>1106820197552</title>\n",
       "<polygon fill=\"none\" stroke=\"black\" points=\"7.12,-365.5 7.12,-401.5 210.12,-401.5 210.12,-365.5 7.12,-365.5\"/>\n",
       "<text text-anchor=\"middle\" x=\"57.88\" y=\"-378.07\" font-family=\"Times New Roman,serif\" font-size=\"14.00\">up_sampling2d</text>\n",
       "<polyline fill=\"none\" stroke=\"black\" points=\"108.62,-365.5 108.62,-401.5\"/>\n",
       "<text text-anchor=\"middle\" x=\"159.38\" y=\"-378.07\" font-family=\"Times New Roman,serif\" font-size=\"14.00\">UpSampling2D</text>\n",
       "</g>\n",
       "<!-- 1106820198992&#45;&gt;1106820197552 -->\n",
       "<g id=\"edge8\" class=\"edge\">\n",
       "<title>1106820198992-&gt;1106820197552</title>\n",
       "<path fill=\"none\" stroke=\"black\" d=\"M108.62,-438.67C108.62,-430.72 108.62,-421.01 108.62,-412.02\"/>\n",
       "<polygon fill=\"black\" stroke=\"black\" points=\"112.13,-412.21 108.62,-402.21 105.13,-412.21 112.13,-412.21\"/>\n",
       "</g>\n",
       "<!-- 1106830185936 -->\n",
       "<g id=\"node10\" class=\"node\">\n",
       "<title>1106830185936</title>\n",
       "<polygon fill=\"none\" stroke=\"black\" points=\"40.88,-292.5 40.88,-328.5 176.38,-328.5 176.38,-292.5 40.88,-292.5\"/>\n",
       "<text text-anchor=\"middle\" x=\"77\" y=\"-305.07\" font-family=\"Times New Roman,serif\" font-size=\"14.00\">conv2d_4</text>\n",
       "<polyline fill=\"none\" stroke=\"black\" points=\"113.12,-292.5 113.12,-328.5\"/>\n",
       "<text text-anchor=\"middle\" x=\"144.75\" y=\"-305.07\" font-family=\"Times New Roman,serif\" font-size=\"14.00\">Conv2D</text>\n",
       "</g>\n",
       "<!-- 1106820197552&#45;&gt;1106830185936 -->\n",
       "<g id=\"edge9\" class=\"edge\">\n",
       "<title>1106820197552-&gt;1106830185936</title>\n",
       "<path fill=\"none\" stroke=\"black\" d=\"M108.62,-365.67C108.62,-357.72 108.62,-348.01 108.62,-339.02\"/>\n",
       "<polygon fill=\"black\" stroke=\"black\" points=\"112.13,-339.21 108.62,-329.21 105.13,-339.21 112.13,-339.21\"/>\n",
       "</g>\n",
       "<!-- 1106558505536 -->\n",
       "<g id=\"node11\" class=\"node\">\n",
       "<title>1106558505536</title>\n",
       "<polygon fill=\"none\" stroke=\"black\" points=\"0,-219.5 0,-255.5 217.25,-255.5 217.25,-219.5 0,-219.5\"/>\n",
       "<text text-anchor=\"middle\" x=\"57.88\" y=\"-232.07\" font-family=\"Times New Roman,serif\" font-size=\"14.00\">up_sampling2d_1</text>\n",
       "<polyline fill=\"none\" stroke=\"black\" points=\"115.75,-219.5 115.75,-255.5\"/>\n",
       "<text text-anchor=\"middle\" x=\"166.5\" y=\"-232.07\" font-family=\"Times New Roman,serif\" font-size=\"14.00\">UpSampling2D</text>\n",
       "</g>\n",
       "<!-- 1106830185936&#45;&gt;1106558505536 -->\n",
       "<g id=\"edge10\" class=\"edge\">\n",
       "<title>1106830185936-&gt;1106558505536</title>\n",
       "<path fill=\"none\" stroke=\"black\" d=\"M108.62,-292.67C108.62,-284.72 108.62,-275.01 108.62,-266.02\"/>\n",
       "<polygon fill=\"black\" stroke=\"black\" points=\"112.13,-266.21 108.62,-256.21 105.13,-266.21 112.13,-266.21\"/>\n",
       "</g>\n",
       "<!-- 1106820193136 -->\n",
       "<g id=\"node12\" class=\"node\">\n",
       "<title>1106820193136</title>\n",
       "<polygon fill=\"none\" stroke=\"black\" points=\"40.88,-146.5 40.88,-182.5 176.38,-182.5 176.38,-146.5 40.88,-146.5\"/>\n",
       "<text text-anchor=\"middle\" x=\"77\" y=\"-159.07\" font-family=\"Times New Roman,serif\" font-size=\"14.00\">conv2d_5</text>\n",
       "<polyline fill=\"none\" stroke=\"black\" points=\"113.12,-146.5 113.12,-182.5\"/>\n",
       "<text text-anchor=\"middle\" x=\"144.75\" y=\"-159.07\" font-family=\"Times New Roman,serif\" font-size=\"14.00\">Conv2D</text>\n",
       "</g>\n",
       "<!-- 1106558505536&#45;&gt;1106820193136 -->\n",
       "<g id=\"edge11\" class=\"edge\">\n",
       "<title>1106558505536-&gt;1106820193136</title>\n",
       "<path fill=\"none\" stroke=\"black\" d=\"M108.62,-219.67C108.62,-211.72 108.62,-202.01 108.62,-193.02\"/>\n",
       "<polygon fill=\"black\" stroke=\"black\" points=\"112.13,-193.21 108.62,-183.21 105.13,-193.21 112.13,-193.21\"/>\n",
       "</g>\n",
       "<!-- 1106830194912 -->\n",
       "<g id=\"node13\" class=\"node\">\n",
       "<title>1106830194912</title>\n",
       "<polygon fill=\"none\" stroke=\"black\" points=\"0,-73.5 0,-109.5 217.25,-109.5 217.25,-73.5 0,-73.5\"/>\n",
       "<text text-anchor=\"middle\" x=\"57.88\" y=\"-86.08\" font-family=\"Times New Roman,serif\" font-size=\"14.00\">up_sampling2d_2</text>\n",
       "<polyline fill=\"none\" stroke=\"black\" points=\"115.75,-73.5 115.75,-109.5\"/>\n",
       "<text text-anchor=\"middle\" x=\"166.5\" y=\"-86.08\" font-family=\"Times New Roman,serif\" font-size=\"14.00\">UpSampling2D</text>\n",
       "</g>\n",
       "<!-- 1106820193136&#45;&gt;1106830194912 -->\n",
       "<g id=\"edge12\" class=\"edge\">\n",
       "<title>1106820193136-&gt;1106830194912</title>\n",
       "<path fill=\"none\" stroke=\"black\" d=\"M108.62,-146.67C108.62,-138.72 108.62,-129.01 108.62,-120.02\"/>\n",
       "<polygon fill=\"black\" stroke=\"black\" points=\"112.13,-120.21 108.62,-110.21 105.13,-120.21 112.13,-120.21\"/>\n",
       "</g>\n",
       "<!-- 1106820126448 -->\n",
       "<g id=\"node14\" class=\"node\">\n",
       "<title>1106820126448</title>\n",
       "<polygon fill=\"none\" stroke=\"black\" points=\"40.88,-0.5 40.88,-36.5 176.38,-36.5 176.38,-0.5 40.88,-0.5\"/>\n",
       "<text text-anchor=\"middle\" x=\"77\" y=\"-13.07\" font-family=\"Times New Roman,serif\" font-size=\"14.00\">conv2d_6</text>\n",
       "<polyline fill=\"none\" stroke=\"black\" points=\"113.12,-0.5 113.12,-36.5\"/>\n",
       "<text text-anchor=\"middle\" x=\"144.75\" y=\"-13.07\" font-family=\"Times New Roman,serif\" font-size=\"14.00\">Conv2D</text>\n",
       "</g>\n",
       "<!-- 1106830194912&#45;&gt;1106820126448 -->\n",
       "<g id=\"edge13\" class=\"edge\">\n",
       "<title>1106830194912-&gt;1106820126448</title>\n",
       "<path fill=\"none\" stroke=\"black\" d=\"M108.62,-73.67C108.62,-65.72 108.62,-56.01 108.62,-47.02\"/>\n",
       "<polygon fill=\"black\" stroke=\"black\" points=\"112.13,-47.21 108.62,-37.21 105.13,-47.21 112.13,-47.21\"/>\n",
       "</g>\n",
       "</g>\n",
       "</svg>"
      ],
      "text/plain": [
       "<IPython.core.display.SVG object>"
      ]
     },
     "execution_count": 22,
     "metadata": {},
     "output_type": "execute_result"
    }
   ],
   "source": [
    "from IPython.display import SVG\n",
    "from keras.utils.vis_utils import model_to_dot\n",
    "\n",
    "SVG(model_to_dot(autoencoder).create(prog='dot', format='svg'))"
   ]
  },
  {
   "cell_type": "markdown",
   "metadata": {},
   "source": [
    "### Train"
   ]
  },
  {
   "cell_type": "code",
   "execution_count": 23,
   "metadata": {},
   "outputs": [
    {
     "name": "stdout",
     "output_type": "stream",
     "text": [
      "Epoch 1/3\n",
      "469/469 [==============================] - 30s 64ms/step - loss: 0.6882 - val_loss: 0.6856\n",
      "Epoch 2/3\n",
      "469/469 [==============================] - 28s 60ms/step - loss: 0.6819 - val_loss: 0.6776\n",
      "Epoch 3/3\n",
      "469/469 [==============================] - 29s 61ms/step - loss: 0.6707 - val_loss: 0.6616\n"
     ]
    }
   ],
   "source": [
    "epochs = 3\n",
    "batch_size = 128\n",
    "\n",
    "history = autoencoder.fit(X_train, X_train, batch_size=batch_size, epochs=epochs, verbose=1, validation_data=(X_test, X_test))"
   ]
  },
  {
   "cell_type": "code",
   "execution_count": 24,
   "metadata": {},
   "outputs": [
    {
     "name": "stdout",
     "output_type": "stream",
     "text": [
      "313/313 [==============================] - 2s 7ms/step\n"
     ]
    }
   ],
   "source": [
    "decoded_imgs = autoencoder.predict(X_test)"
   ]
  },
  {
   "cell_type": "markdown",
   "metadata": {},
   "source": [
    "### Plot"
   ]
  },
  {
   "cell_type": "code",
   "execution_count": 25,
   "metadata": {},
   "outputs": [
    {
     "data": {
      "image/png": "[encoded data removed]",
      "text/plain": [
       "<Figure size 2000x600 with 20 Axes>"
      ]
     },
     "metadata": {},
     "output_type": "display_data"
    }
   ],
   "source": [
    "n = 10\n",
    "plt.figure(figsize=(20, 6))\n",
    "for i in range(n):\n",
    "    # display original\n",
    "    ax = plt.subplot(3, n, i+1)\n",
    "    plt.imshow(X_test[i].reshape(28, 28))\n",
    "    plt.gray()\n",
    "    ax.get_xaxis().set_visible(False)\n",
    "    ax.get_yaxis().set_visible(False)\n",
    "\n",
    "    \n",
    "    # display reconstruction\n",
    "    ax = plt.subplot(3, n, i+n+1)\n",
    "    plt.imshow(decoded_imgs[i].reshape(28, 28))\n",
    "    plt.gray()\n",
    "    ax.get_xaxis().set_visible(False)\n",
    "    ax.get_yaxis().set_visible(False)\n",
    "    \n",
    "plt.show()"
   ]
  },
  {
   "cell_type": "markdown",
   "metadata": {},
   "source": [
    "### Plot the losses"
   ]
  },
  {
   "cell_type": "code",
   "execution_count": 26,
   "metadata": {},
   "outputs": [
    {
     "name": "stdout",
     "output_type": "stream",
     "text": [
      "dict_keys(['loss', 'val_loss'])\n"
     ]
    },
    {
     "data": {
      "image/png": "[encoded data removed]",
      "text/plain": [
       "<Figure size 640x480 with 1 Axes>"
      ]
     },
     "metadata": {},
     "output_type": "display_data"
    }
   ],
   "source": [
    "print(history.history.keys())\n",
    "\n",
    "plt.plot(history.history['loss'])\n",
    "plt.plot(history.history['val_loss'])\n",
    "plt.title('model loss')\n",
    "plt.ylabel('loss')\n",
    "plt.xlabel('epoch')\n",
    "plt.legend(['train', 'validation'], loc='upper right')\n",
    "plt.show()"
   ]
  },
  {
   "cell_type": "markdown",
   "metadata": {},
   "source": [
    "___"
   ]
  },
  {
   "cell_type": "markdown",
   "metadata": {},
   "source": [
    "# **Regularized autoencoder**"
   ]
  },
  {
   "cell_type": "markdown",
   "metadata": {},
   "source": [
    "Two types of regularization are described : \n",
    "- Sparse autoencoder\n",
    "- Denoising autoencoder"
   ]
  },
  {
   "cell_type": "markdown",
   "metadata": {},
   "source": [
    "## 1. Sparse autoencoder"
   ]
  },
  {
   "cell_type": "markdown",
   "metadata": {},
   "source": [
    "### Create the network"
   ]
  },
  {
   "cell_type": "code",
   "execution_count": 27,
   "metadata": {},
   "outputs": [],
   "source": [
    "input_size = 784\n",
    "hidden_size = 32\n",
    "output_size = 784"
   ]
  },
  {
   "cell_type": "code",
   "execution_count": 28,
   "metadata": {},
   "outputs": [],
   "source": [
    "x = Input(shape=(input_size,))\n",
    "h = Dense(hidden_size, activation='relu', activity_regularizer=regularizers.l1(10e-5))(x)\n",
    "r = Dense(output_size, activation='sigmoid')(h)\n",
    "\n",
    "autoencoder = Model(inputs=x, outputs=r)\n",
    "autoencoder.compile(optimizer='adam', loss='mse')"
   ]
  },
  {
   "cell_type": "code",
   "execution_count": 35,
   "metadata": {},
   "outputs": [
    {
     "data": {
      "image/svg+xml": [
       "<svg xmlns=\"http://www.w3.org/2000/svg\" xmlns:xlink=\"http://www.w3.org/1999/xlink\" width=\"192pt\" height=\"255pt\" viewBox=\"0.00 0.00 144.25 191.00\">\n",
       "<g id=\"graph0\" class=\"graph\" transform=\"scale(1.33333 1.33333) rotate(0) translate(4 187)\">\n",
       "<title>G</title>\n",
       "<polygon fill=\"white\" stroke=\"none\" points=\"-4,4 -4,-187 140.25,-187 140.25,4 -4,4\"/>\n",
       "<!-- 1106574719584 -->\n",
       "<g id=\"node1\" class=\"node\">\n",
       "<title>1106574719584</title>\n",
       "<polygon fill=\"none\" stroke=\"black\" points=\"0.75,-146.5 0.75,-182.5 135.5,-182.5 135.5,-146.5 0.75,-146.5\"/>\n",
       "<text text-anchor=\"middle\" x=\"29.75\" y=\"-159.07\" font-family=\"Times New Roman,serif\" font-size=\"14.00\">input_5</text>\n",
       "<polyline fill=\"none\" stroke=\"black\" points=\"58.75,-146.5 58.75,-182.5\"/>\n",
       "<text text-anchor=\"middle\" x=\"97.12\" y=\"-159.07\" font-family=\"Times New Roman,serif\" font-size=\"14.00\">InputLayer</text>\n",
       "</g>\n",
       "<!-- 1106647948720 -->\n",
       "<g id=\"node2\" class=\"node\">\n",
       "<title>1106647948720</title>\n",
       "<polygon fill=\"none\" stroke=\"black\" points=\"0.38,-73.5 0.38,-109.5 135.88,-109.5 135.88,-73.5 0.38,-73.5\"/>\n",
       "<text text-anchor=\"middle\" x=\"30.88\" y=\"-86.08\" font-family=\"Times New Roman,serif\" font-size=\"14.00\">encoder</text>\n",
       "<polyline fill=\"none\" stroke=\"black\" points=\"61.38,-73.5 61.38,-109.5\"/>\n",
       "<text text-anchor=\"middle\" x=\"98.62\" y=\"-86.08\" font-family=\"Times New Roman,serif\" font-size=\"14.00\">Functional</text>\n",
       "</g>\n",
       "<!-- 1106574719584&#45;&gt;1106647948720 -->\n",
       "<g id=\"edge1\" class=\"edge\">\n",
       "<title>1106574719584-&gt;1106647948720</title>\n",
       "<path fill=\"none\" stroke=\"black\" d=\"M68.12,-146.67C68.12,-138.72 68.12,-129.01 68.12,-120.02\"/>\n",
       "<polygon fill=\"black\" stroke=\"black\" points=\"71.63,-120.21 68.12,-110.21 64.63,-120.21 71.63,-120.21\"/>\n",
       "</g>\n",
       "<!-- 1106819655920 -->\n",
       "<g id=\"node3\" class=\"node\">\n",
       "<title>1106819655920</title>\n",
       "<polygon fill=\"none\" stroke=\"black\" points=\"0,-0.5 0,-36.5 136.25,-36.5 136.25,-0.5 0,-0.5\"/>\n",
       "<text text-anchor=\"middle\" x=\"30.88\" y=\"-13.07\" font-family=\"Times New Roman,serif\" font-size=\"14.00\">decoder</text>\n",
       "<polyline fill=\"none\" stroke=\"black\" points=\"61.75,-0.5 61.75,-36.5\"/>\n",
       "<text text-anchor=\"middle\" x=\"99\" y=\"-13.07\" font-family=\"Times New Roman,serif\" font-size=\"14.00\">Functional</text>\n",
       "</g>\n",
       "<!-- 1106647948720&#45;&gt;1106819655920 -->\n",
       "<g id=\"edge2\" class=\"edge\">\n",
       "<title>1106647948720-&gt;1106819655920</title>\n",
       "<path fill=\"none\" stroke=\"black\" d=\"M68.12,-73.67C68.12,-65.72 68.12,-56.01 68.12,-47.02\"/>\n",
       "<polygon fill=\"black\" stroke=\"black\" points=\"71.63,-47.21 68.12,-37.21 64.63,-47.21 71.63,-47.21\"/>\n",
       "</g>\n",
       "</g>\n",
       "</svg>"
      ],
      "text/plain": [
       "<IPython.core.display.SVG object>"
      ]
     },
     "execution_count": 35,
     "metadata": {},
     "output_type": "execute_result"
    }
   ],
   "source": [
    "from IPython.display import SVG\n",
    "from keras.utils.vis_utils import model_to_dot\n",
    "\n",
    "SVG(model_to_dot(autoencoder).create(prog='dot', format='svg'))"
   ]
  },
  {
   "cell_type": "code",
   "execution_count": 31,
   "metadata": {},
   "outputs": [
    {
     "name": "stdout",
     "output_type": "stream",
     "text": [
      "Epoch 1/15\n"
     ]
    },
    {
     "ename": "ValueError",
     "evalue": "in user code:\n\n    File \"C:\\Python310\\lib\\site-packages\\keras\\engine\\training.py\", line 1160, in train_function  *\n        return step_function(self, iterator)\n    File \"C:\\Python310\\lib\\site-packages\\keras\\engine\\training.py\", line 1146, in step_function  **\n        outputs = model.distribute_strategy.run(run_step, args=(data,))\n    File \"C:\\Python310\\lib\\site-packages\\keras\\engine\\training.py\", line 1135, in run_step  **\n        outputs = model.train_step(data)\n    File \"C:\\Python310\\lib\\site-packages\\keras\\engine\\training.py\", line 993, in train_step\n        y_pred = self(x, training=True)\n    File \"C:\\Python310\\lib\\site-packages\\keras\\utils\\traceback_utils.py\", line 70, in error_handler\n        raise e.with_traceback(filtered_tb) from None\n    File \"C:\\Python310\\lib\\site-packages\\keras\\engine\\input_spec.py\", line 295, in assert_input_compatibility\n        raise ValueError(\n\n    ValueError: Input 0 of layer \"model_4\" is incompatible with the layer: expected shape=(None, 784), found shape=(None, 28, 28, 1)\n",
     "output_type": "error",
     "traceback": [
      "\u001b[1;31m---------------------------------------------------------------------------\u001b[0m",
      "\u001b[1;31mValueError\u001b[0m                                Traceback (most recent call last)",
      "Cell \u001b[1;32mIn[31], line 4\u001b[0m\n\u001b[0;32m      1\u001b[0m epochs \u001b[38;5;241m=\u001b[39m \u001b[38;5;241m15\u001b[39m\n\u001b[0;32m      2\u001b[0m batch_size \u001b[38;5;241m=\u001b[39m \u001b[38;5;241m128\u001b[39m\n\u001b[1;32m----> 4\u001b[0m history \u001b[38;5;241m=\u001b[39m \u001b[43mautoencoder\u001b[49m\u001b[38;5;241;43m.\u001b[39;49m\u001b[43mfit\u001b[49m\u001b[43m(\u001b[49m\u001b[43mX_train\u001b[49m\u001b[43m,\u001b[49m\u001b[43m \u001b[49m\u001b[43mX_train\u001b[49m\u001b[43m,\u001b[49m\u001b[43m \u001b[49m\u001b[43mbatch_size\u001b[49m\u001b[38;5;241;43m=\u001b[39;49m\u001b[43mbatch_size\u001b[49m\u001b[43m,\u001b[49m\u001b[43m \u001b[49m\u001b[43mepochs\u001b[49m\u001b[38;5;241;43m=\u001b[39;49m\u001b[43mepochs\u001b[49m\u001b[43m,\u001b[49m\u001b[43m \u001b[49m\u001b[43mverbose\u001b[49m\u001b[38;5;241;43m=\u001b[39;49m\u001b[38;5;241;43m1\u001b[39;49m\u001b[43m,\u001b[49m\u001b[43m \u001b[49m\u001b[43mvalidation_data\u001b[49m\u001b[38;5;241;43m=\u001b[39;49m\u001b[43m(\u001b[49m\u001b[43mX_test\u001b[49m\u001b[43m,\u001b[49m\u001b[43m \u001b[49m\u001b[43mX_test\u001b[49m\u001b[43m)\u001b[49m\u001b[43m)\u001b[49m\n",
      "File \u001b[1;32mC:\\Python310\\lib\\site-packages\\keras\\utils\\traceback_utils.py:70\u001b[0m, in \u001b[0;36mfilter_traceback.<locals>.error_handler\u001b[1;34m(*args, **kwargs)\u001b[0m\n\u001b[0;32m     67\u001b[0m     filtered_tb \u001b[38;5;241m=\u001b[39m _process_traceback_frames(e\u001b[38;5;241m.\u001b[39m__traceback__)\n\u001b[0;32m     68\u001b[0m     \u001b[38;5;66;03m# To get the full stack trace, call:\u001b[39;00m\n\u001b[0;32m     69\u001b[0m     \u001b[38;5;66;03m# `tf.debugging.disable_traceback_filtering()`\u001b[39;00m\n\u001b[1;32m---> 70\u001b[0m     \u001b[38;5;28;01mraise\u001b[39;00m e\u001b[38;5;241m.\u001b[39mwith_traceback(filtered_tb) \u001b[38;5;28;01mfrom\u001b[39;00m \u001b[38;5;28;01mNone\u001b[39;00m\n\u001b[0;32m     71\u001b[0m \u001b[38;5;28;01mfinally\u001b[39;00m:\n\u001b[0;32m     72\u001b[0m     \u001b[38;5;28;01mdel\u001b[39;00m filtered_tb\n",
      "File \u001b[1;32m~\\AppData\\Local\\Temp\\__autograph_generated_filen0kjp8ti.py:15\u001b[0m, in \u001b[0;36mouter_factory.<locals>.inner_factory.<locals>.tf__train_function\u001b[1;34m(iterator)\u001b[0m\n\u001b[0;32m     13\u001b[0m \u001b[38;5;28;01mtry\u001b[39;00m:\n\u001b[0;32m     14\u001b[0m     do_return \u001b[38;5;241m=\u001b[39m \u001b[38;5;28;01mTrue\u001b[39;00m\n\u001b[1;32m---> 15\u001b[0m     retval_ \u001b[38;5;241m=\u001b[39m ag__\u001b[38;5;241m.\u001b[39mconverted_call(ag__\u001b[38;5;241m.\u001b[39mld(step_function), (ag__\u001b[38;5;241m.\u001b[39mld(\u001b[38;5;28mself\u001b[39m), ag__\u001b[38;5;241m.\u001b[39mld(iterator)), \u001b[38;5;28;01mNone\u001b[39;00m, fscope)\n\u001b[0;32m     16\u001b[0m \u001b[38;5;28;01mexcept\u001b[39;00m:\n\u001b[0;32m     17\u001b[0m     do_return \u001b[38;5;241m=\u001b[39m \u001b[38;5;28;01mFalse\u001b[39;00m\n",
      "\u001b[1;31mValueError\u001b[0m: in user code:\n\n    File \"C:\\Python310\\lib\\site-packages\\keras\\engine\\training.py\", line 1160, in train_function  *\n        return step_function(self, iterator)\n    File \"C:\\Python310\\lib\\site-packages\\keras\\engine\\training.py\", line 1146, in step_function  **\n        outputs = model.distribute_strategy.run(run_step, args=(data,))\n    File \"C:\\Python310\\lib\\site-packages\\keras\\engine\\training.py\", line 1135, in run_step  **\n        outputs = model.train_step(data)\n    File \"C:\\Python310\\lib\\site-packages\\keras\\engine\\training.py\", line 993, in train_step\n        y_pred = self(x, training=True)\n    File \"C:\\Python310\\lib\\site-packages\\keras\\utils\\traceback_utils.py\", line 70, in error_handler\n        raise e.with_traceback(filtered_tb) from None\n    File \"C:\\Python310\\lib\\site-packages\\keras\\engine\\input_spec.py\", line 295, in assert_input_compatibility\n        raise ValueError(\n\n    ValueError: Input 0 of layer \"model_4\" is incompatible with the layer: expected shape=(None, 784), found shape=(None, 28, 28, 1)\n"
     ]
    }
   ],
   "source": [
    "epochs = 15\n",
    "batch_size = 128\n",
    "\n",
    "history = autoencoder.fit(X_train, X_train, batch_size=batch_size, epochs=epochs, verbose=1, validation_data=(X_test, X_test))"
   ]
  },
  {
   "cell_type": "markdown",
   "metadata": {},
   "source": [
    "### Predict on the test set"
   ]
  },
  {
   "cell_type": "code",
   "execution_count": null,
   "metadata": {},
   "outputs": [],
   "source": [
    "decoded_imgs = autoencoder.predict(X_test)"
   ]
  },
  {
   "cell_type": "markdown",
   "metadata": {},
   "source": [
    "### Plot"
   ]
  },
  {
   "cell_type": "code",
   "execution_count": null,
   "metadata": {},
   "outputs": [],
   "source": [
    "n = 10\n",
    "plt.figure(figsize=(20, 6))\n",
    "for i in range(n):\n",
    "    # display original\n",
    "    ax = plt.subplot(3, n, i+1)\n",
    "    plt.imshow(X_test[i].reshape(28, 28))\n",
    "    plt.gray()\n",
    "    ax.get_xaxis().set_visible(False)\n",
    "    ax.get_yaxis().set_visible(False)\n",
    "\n",
    "    \n",
    "    # display reconstruction\n",
    "    ax = plt.subplot(3, n, i+n+1)\n",
    "    plt.imshow(decoded_imgs[i].reshape(28, 28))\n",
    "    plt.gray()\n",
    "    ax.get_xaxis().set_visible(False)\n",
    "    ax.get_yaxis().set_visible(False)\n",
    "    \n",
    "plt.show()"
   ]
  },
  {
   "cell_type": "markdown",
   "metadata": {},
   "source": [
    "### Plot the losses"
   ]
  },
  {
   "cell_type": "code",
   "execution_count": null,
   "metadata": {},
   "outputs": [],
   "source": [
    "print(history.history.keys())\n",
    "\n",
    "plt.plot(history.history['loss'])\n",
    "plt.plot(history.history['val_loss'])\n",
    "plt.title('model loss')\n",
    "plt.ylabel('loss')\n",
    "plt.xlabel('epoch')\n",
    "plt.legend(['train', 'validation'], loc='upper right')\n",
    "plt.show()"
   ]
  },
  {
   "cell_type": "markdown",
   "metadata": {},
   "source": [
    "## 2. Denoising autoencoder"
   ]
  },
  {
   "cell_type": "code",
   "execution_count": null,
   "metadata": {},
   "outputs": [],
   "source": [
    "(X_train, _), (X_test, _) = mnist.load_data()\n",
    "\n",
    "X_train = X_train.reshape(X_train.shape[0], 28, 28, 1)\n",
    "X_test = X_test.reshape(X_test.shape[0], 28, 28, 1)\n",
    "\n",
    "X_train = X_train.astype(\"float32\")/255.\n",
    "X_test = X_test.astype(\"float32\")/255."
   ]
  },
  {
   "cell_type": "markdown",
   "metadata": {},
   "source": [
    "### Create noisy data"
   ]
  },
  {
   "cell_type": "code",
   "execution_count": null,
   "metadata": {},
   "outputs": [],
   "source": [
    "noise_factor = 0.5\n",
    "X_train_noisy = X_train + noise_factor * np.random.normal(loc=0.0, scale=1.0, size=X_train.shape) \n",
    "X_test_noisy = X_test + noise_factor * np.random.normal(loc=0.0, scale=1.0, size=X_test.shape) \n",
    "\n",
    "X_train_noisy = np.clip(X_train_noisy, 0., 1.)\n",
    "X_test_noisy = np.clip(X_test_noisy, 0., 1.)"
   ]
  },
  {
   "cell_type": "markdown",
   "metadata": {},
   "source": [
    "### Create the network"
   ]
  },
  {
   "cell_type": "code",
   "execution_count": null,
   "metadata": {},
   "outputs": [],
   "source": [
    "x = Input(shape=(28, 28, 1))\n",
    "\n",
    "# Encoder\n",
    "conv1_1 = Conv2D(32, (3, 3), activation='relu', padding='same')(x)\n",
    "pool1 = MaxPooling2D((2, 2), padding='same')(conv1_1)\n",
    "conv1_2 = Conv2D(32, (3, 3), activation='relu', padding='same')(pool1)\n",
    "h = MaxPooling2D((2, 2), padding='same')(conv1_2)\n",
    "\n",
    "\n",
    "# Decoder\n",
    "conv2_1 = Conv2D(32, (3, 3), activation='relu', padding='same')(h)\n",
    "up1 = UpSampling2D((2, 2))(conv2_1)\n",
    "conv2_2 = Conv2D(32, (3, 3), activation='relu', padding='same')(up1)\n",
    "up2 = UpSampling2D((2, 2))(conv2_2)\n",
    "r = Conv2D(1, (3, 3), activation='sigmoid', padding='same')(up2)\n",
    "\n",
    "autoencoder = Model(inputs=x, outputs=r)\n",
    "autoencoder.compile(optimizer='adadelta', loss='binary_crossentropy')"
   ]
  },
  {
   "cell_type": "code",
   "execution_count": null,
   "metadata": {},
   "outputs": [],
   "source": [
    "from IPython.display import SVG\n",
    "from keras.utils.vis_utils import model_to_dot\n",
    "\n",
    "SVG(model_to_dot(autoencoder).create(prog='dot', format='svg'))"
   ]
  },
  {
   "cell_type": "markdown",
   "metadata": {},
   "source": [
    "### Train the network"
   ]
  },
  {
   "cell_type": "code",
   "execution_count": null,
   "metadata": {},
   "outputs": [],
   "source": [
    "epochs = 3\n",
    "batch_size = 128\n",
    "\n",
    "history = autoencoder.fit(X_train_noisy, X_train, batch_size=batch_size, epochs=epochs, verbose=1, validation_data=(X_test_noisy, X_test))"
   ]
  },
  {
   "cell_type": "code",
   "execution_count": null,
   "metadata": {},
   "outputs": [],
   "source": [
    "decoded_imgs = autoencoder.predict(X_test_noisy)"
   ]
  },
  {
   "cell_type": "markdown",
   "metadata": {},
   "source": [
    "### Plot"
   ]
  },
  {
   "cell_type": "code",
   "execution_count": null,
   "metadata": {},
   "outputs": [],
   "source": [
    "n = 10\n",
    "plt.figure(figsize=(20, 6))\n",
    "for i in range(n):\n",
    "    # display original\n",
    "    ax = plt.subplot(3, n, i+1)\n",
    "    plt.imshow(X_test_noisy[i].reshape(28, 28))\n",
    "    plt.gray()\n",
    "    ax.get_xaxis().set_visible(False)\n",
    "    ax.get_yaxis().set_visible(False)\n",
    "\n",
    "    \n",
    "    # display reconstruction\n",
    "    ax = plt.subplot(3, n, i+n+1)\n",
    "    plt.imshow(decoded_imgs[i].reshape(28, 28))\n",
    "    plt.gray()\n",
    "    ax.get_xaxis().set_visible(False)\n",
    "    ax.get_yaxis().set_visible(False)\n",
    "    \n",
    "plt.show()"
   ]
  },
  {
   "cell_type": "markdown",
   "metadata": {},
   "source": [
    "### Plot the losses"
   ]
  },
  {
   "cell_type": "code",
   "execution_count": null,
   "metadata": {},
   "outputs": [],
   "source": [
    "print(history.history.keys())\n",
    "\n",
    "plt.plot(history.history['loss'])\n",
    "plt.plot(history.history['val_loss'])\n",
    "plt.title('model loss')\n",
    "plt.ylabel('loss')\n",
    "plt.xlabel('epoch')\n",
    "plt.legend(['train', 'validation'], loc='upper right')\n",
    "plt.show()"
   ]
  },
  {
   "cell_type": "markdown",
   "metadata": {},
   "source": [
    "___"
   ]
  },
  {
   "cell_type": "markdown",
   "metadata": {},
   "source": [
    "---"
   ]
  },
  {
   "cell_type": "markdown",
   "metadata": {},
   "source": [
    "[Автокодировщик](https://neerc.ifmo.ru/wiki/index.php?title=%D0%90%D0%B2%D1%82%D0%BE%D0%BA%D0%BE%D0%B4%D0%B8%D1%80%D0%BE%D0%B2%D1%89%D0%B8%D0%BA)"
   ]
  },
  {
   "cell_type": "code",
   "execution_count": 32,
   "metadata": {},
   "outputs": [],
   "source": [
    "def create_dense_ae(): \n",
    "    # Размерность кодированного представления\n",
    "    encoding_dim = 49\n",
    "\n",
    "    # Энкодер\n",
    "    # Входной плейсхолдер\n",
    "    input_img = Input(shape=(28, 28, 1)) # 28, 28, 1 — размерности строк, столбцов, фильтров одной картинки, без батч-размерности\n",
    "    # Вспомогательный слой решейпинга\n",
    "    flat_img = Flatten()(input_img)\n",
    "    # Кодированное полносвязным слоем представление\n",
    "    encoded = Dense(encoding_dim, activation='relu')(flat_img)\n",
    "   \n",
    "    # Декодер\n",
    "    # Раскодированное другим полносвязным слоем изображение\n",
    "    input_encoded = Input(shape=(encoding_dim,))\n",
    "    flat_decoded = Dense(28*28, activation='sigmoid')(input_encoded)\n",
    "    decoded = Reshape((28, 28, 1))(flat_decoded)\n",
    "    # Модели, в конструктор первым аргументом передаются входные слои, а вторым выходные слои\n",
    "    # Другие модели можно так же использовать как и слои\n",
    "    encoder = Model(input_img, encoded, name=\"encoder\")\n",
    "    decoder = Model(input_encoded, decoded, name=\"decoder\")\n",
    "    autoencoder = Model(input_img, decoder(encoder(input_img)), name=\"autoencoder\")\n",
    "    return encoder, decoder, autoencoder"
   ]
  },
  {
   "cell_type": "code",
   "execution_count": 33,
   "metadata": {},
   "outputs": [],
   "source": [
    "# Создание модели\n",
    "encoder, decoder, autoencoder = create_dense_ae()\n",
    "autoencoder.compile(optimizer='adam', loss='binary_crossentropy')"
   ]
  }
 ],
 "metadata": {
  "kernelspec": {
   "display_name": "Python 3 (ipykernel)",
   "language": "python",
   "name": "python3"
  },
  "language_info": {
   "codemirror_mode": {
    "name": "ipython",
    "version": 3
   },
   "file_extension": ".py",
   "mimetype": "text/x-python",
   "name": "python",
   "nbconvert_exporter": "python",
   "pygments_lexer": "ipython3",
   "version": "3.10.11"
  }
 },
 "nbformat": 4,
 "nbformat_minor": 2
}
