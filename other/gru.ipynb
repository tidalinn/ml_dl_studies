{
 "cells": [
  {
   "cell_type": "markdown",
   "id": "d2deadba",
   "metadata": {},
   "source": [
    "[Build a GRU RNN in Keras](https://pythonalgos.com/2022/01/02/build-a-gru-rnn-in-keras/)"
   ]
  },
  {
   "cell_type": "code",
   "execution_count": 1,
   "id": "c7d20f94",
   "metadata": {},
   "outputs": [],
   "source": [
    "import tensorflow as tf\n",
    "from tensorflow import keras\n",
    "from tensorflow.keras import layers"
   ]
  },
  {
   "cell_type": "code",
   "execution_count": 2,
   "id": "07a1b3b2",
   "metadata": {},
   "outputs": [
    {
     "name": "stdout",
     "output_type": "stream",
     "text": [
      "Model: \"sequential\"\n",
      "_________________________________________________________________\n",
      " Layer (type)                Output Shape              Param #   \n",
      "=================================================================\n",
      " gru (GRU)                   (None, 64)                18048     \n",
      "                                                                 \n",
      " batch_normalization (BatchN  (None, 64)               256       \n",
      " ormalization)                                                   \n",
      "                                                                 \n",
      " dense (Dense)               (None, 10)                650       \n",
      "                                                                 \n",
      "=================================================================\n",
      "Total params: 18,954\n",
      "Trainable params: 18,826\n",
      "Non-trainable params: 128\n",
      "_________________________________________________________________\n",
      "None\n"
     ]
    }
   ],
   "source": [
    "model = keras.Sequential()\n",
    "model.add(layers.GRU(64, input_shape=(28, 28)))\n",
    "model.add(layers.BatchNormalization())\n",
    "model.add(layers.Dense(10))\n",
    "\n",
    "print(model.summary())"
   ]
  },
  {
   "cell_type": "code",
   "execution_count": 3,
   "id": "5c1fbd98",
   "metadata": {},
   "outputs": [],
   "source": [
    "mnist = keras.datasets.mnist\n",
    "\n",
    "(x_train, y_train), (x_test, y_test) = mnist.load_data()\n",
    "\n",
    "x_train, x_test = x_train/255.0, x_test/255.0\n",
    "x_validate, y_validate = x_test[:-10], y_test[:-10]\n",
    "\n",
    "x_test, y_test = x_test[-10:], y_test[-10:]"
   ]
  },
  {
   "cell_type": "code",
   "execution_count": 4,
   "id": "8b8e8ddf",
   "metadata": {},
   "outputs": [],
   "source": [
    "model.compile(\n",
    "    loss=keras.losses.SparseCategoricalCrossentropy(from_logits=True),\n",
    "    optimizer=\"sgd\",\n",
    "    metrics=[\"accuracy\"],\n",
    ")"
   ]
  },
  {
   "cell_type": "code",
   "execution_count": 5,
   "id": "cd97c389",
   "metadata": {},
   "outputs": [
    {
     "name": "stdout",
     "output_type": "stream",
     "text": [
      "Epoch 1/10\n",
      "938/938 [==============================] - 13s 12ms/step - loss: 1.3666 - accuracy: 0.5325 - val_loss: 0.9808 - val_accuracy: 0.6741\n",
      "Epoch 2/10\n",
      "938/938 [==============================] - 11s 12ms/step - loss: 0.7904 - accuracy: 0.7376 - val_loss: 0.6204 - val_accuracy: 0.7903\n",
      "Epoch 3/10\n",
      "938/938 [==============================] - 11s 12ms/step - loss: 0.5326 - accuracy: 0.8272 - val_loss: 0.4310 - val_accuracy: 0.8599\n",
      "Epoch 4/10\n",
      "938/938 [==============================] - 11s 12ms/step - loss: 0.3724 - accuracy: 0.8835 - val_loss: 0.3899 - val_accuracy: 0.8680\n",
      "Epoch 5/10\n",
      "938/938 [==============================] - 10s 11ms/step - loss: 0.2842 - accuracy: 0.9125 - val_loss: 0.2562 - val_accuracy: 0.9203\n",
      "Epoch 6/10\n",
      "938/938 [==============================] - 10s 11ms/step - loss: 0.2326 - accuracy: 0.9292 - val_loss: 0.2062 - val_accuracy: 0.9366\n",
      "Epoch 7/10\n",
      "938/938 [==============================] - 10s 11ms/step - loss: 0.2001 - accuracy: 0.9385 - val_loss: 0.3399 - val_accuracy: 0.8825\n",
      "Epoch 8/10\n",
      "938/938 [==============================] - 10s 11ms/step - loss: 0.1724 - accuracy: 0.9473 - val_loss: 0.3831 - val_accuracy: 0.8723\n",
      "Epoch 9/10\n",
      "938/938 [==============================] - 10s 11ms/step - loss: 0.1543 - accuracy: 0.9527 - val_loss: 0.2038 - val_accuracy: 0.9342\n",
      "Epoch 10/10\n",
      "938/938 [==============================] - 10s 11ms/step - loss: 0.1393 - accuracy: 0.9569 - val_loss: 0.1352 - val_accuracy: 0.9578\n"
     ]
    },
    {
     "data": {
      "text/plain": [
       "<keras.callbacks.History at 0x26e2ed61360>"
      ]
     },
     "execution_count": 5,
     "metadata": {},
     "output_type": "execute_result"
    }
   ],
   "source": [
    "model.fit(\n",
    "    x_train, y_train, validation_data=(x_validate, y_validate), batch_size=64, epochs=10\n",
    ")"
   ]
  },
  {
   "cell_type": "code",
   "execution_count": 6,
   "id": "ea7e3441",
   "metadata": {},
   "outputs": [
    {
     "name": "stdout",
     "output_type": "stream",
     "text": [
      "1/1 [==============================] - 0s 311ms/step\n",
      "[7] 7\n",
      "1/1 [==============================] - 0s 19ms/step\n",
      "[8] 8\n",
      "1/1 [==============================] - 0s 18ms/step\n",
      "[9] 9\n",
      "1/1 [==============================] - 0s 17ms/step\n",
      "[0] 0\n",
      "1/1 [==============================] - 0s 18ms/step\n",
      "[1] 1\n",
      "1/1 [==============================] - 0s 20ms/step\n",
      "[2] 2\n",
      "1/1 [==============================] - 0s 17ms/step\n",
      "[3] 3\n",
      "1/1 [==============================] - 0s 18ms/step\n",
      "[4] 4\n",
      "1/1 [==============================] - 0s 17ms/step\n",
      "[5] 5\n",
      "1/1 [==============================] - 0s 17ms/step\n",
      "[6] 6\n"
     ]
    }
   ],
   "source": [
    "for i in range(10):\n",
    "    result = tf.argmax(model.predict(tf.expand_dims(x_test[i], 0)), axis=1)\n",
    "    print(result.numpy(), y_test[i])"
   ]
  },
  {
   "cell_type": "code",
   "execution_count": null,
   "id": "80ed3570",
   "metadata": {},
   "outputs": [],
   "source": []
  }
 ],
 "metadata": {
  "kernelspec": {
   "display_name": "Python 3 (ipykernel)",
   "language": "python",
   "name": "python3"
  },
  "language_info": {
   "codemirror_mode": {
    "name": "ipython",
    "version": 3
   },
   "file_extension": ".py",
   "mimetype": "text/x-python",
   "name": "python",
   "nbconvert_exporter": "python",
   "pygments_lexer": "ipython3",
   "version": "3.10.11"
  }
 },
 "nbformat": 4,
 "nbformat_minor": 5
}
