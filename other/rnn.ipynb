{
 "cells": [
  {
   "cell_type": "markdown",
   "id": "4d78b19b",
   "metadata": {},
   "source": [
    "[Рекуррентные нейронные сети](https://neerc.ifmo.ru/wiki/index.php?title=%D0%A0%D0%B5%D0%BA%D1%83%D1%80%D1%80%D0%B5%D0%BD%D1%82%D0%BD%D1%8B%D0%B5_%D0%BD%D0%B5%D0%B9%D1%80%D0%BE%D0%BD%D0%BD%D1%8B%D0%B5_%D1%81%D0%B5%D1%82%D0%B8)"
   ]
  },
  {
   "cell_type": "markdown",
   "id": "a3e3a05c",
   "metadata": {},
   "source": [
    "**keras**"
   ]
  },
  {
   "cell_type": "code",
   "execution_count": 1,
   "id": "3fef2304",
   "metadata": {},
   "outputs": [],
   "source": [
    "# Импорты\n",
    "import numpy as np\n",
    "from keras.preprocessing import sequence\n",
    "from keras.utils.data_utils import pad_sequences\n",
    "from keras.models import Sequential\n",
    "from keras.layers import Dense, Activation, Embedding, Dropout\n",
    "from keras.layers import LSTM\n",
    "from keras.datasets import imdb\n",
    "\n",
    "# Устанавливаем seed для обеспечения повторяемости результатов\n",
    "np.random.seed(42)"
   ]
  },
  {
   "cell_type": "code",
   "execution_count": 2,
   "id": "797f370c",
   "metadata": {},
   "outputs": [],
   "source": [
    "# Указываем количество слов из частотного словаря, которое будет использоваться (отсортированы по частоте использования)\n",
    "max_features = 5000"
   ]
  },
  {
   "cell_type": "code",
   "execution_count": 3,
   "id": "33d7dd28",
   "metadata": {},
   "outputs": [],
   "source": [
    "# Загружаем данные (датасет IMDB содержит 25000 рецензий на фильмы с правильным ответом для обучения и 25000 рецензий на фильмы с правильным ответом для тестирования)\n",
    "(X_train, y_train), (X_test, y_test) = imdb.load_data(num_words = max_features)"
   ]
  },
  {
   "cell_type": "code",
   "execution_count": 4,
   "id": "9775c515",
   "metadata": {},
   "outputs": [],
   "source": [
    "# Устанавливаем максимальную длину рецензий в словах, чтобы они все были одной длины\n",
    "maxlen = 80\n",
    "\n",
    "# Заполняем короткие рецензии пробелами, а длинные обрезаем\n",
    "X_train = pad_sequences(X_train, maxlen = maxlen)\n",
    "X_test = pad_sequences(X_test, maxlen = maxlen)"
   ]
  },
  {
   "cell_type": "code",
   "execution_count": 5,
   "id": "df625ad1",
   "metadata": {},
   "outputs": [],
   "source": [
    "# Создаем модель последовательной сети\n",
    "model = Sequential()\n",
    "\n",
    "# Добавляем слой для векторного представления слов (5000 слов, каждое представлено вектором из 32 чисел, отключаем входной сигнал с вероятностью 20% для предотвращения переобучения)\n",
    "model.add(Embedding(max_features, 32))\n",
    "model.add(Dropout(0.2))\n",
    "# Добавляем слой долго-краткосрочной памяти (100 элементов для долговременного хранения информации, отключаем входной сигнал с вероятностью 20%, отключаем рекуррентный сигнал с вероятностью 20%)\n",
    "model.add(LSTM(100))\n",
    "model.add(Dropout(0.2))\n",
    "# Добавляем полносвязный слой из 1 элемента для классификации, в качестве функции активации будем использовать сигмоидальную функцию\n",
    "model.add(Dense(1, activation = 'sigmoid'))\n",
    "\n",
    "# Компилируем модель нейронной сети\n",
    "model.compile(\n",
    "    loss = 'binary_crossentropy',\n",
    "    optimizer = 'adam',\n",
    "    metrics = ['accuracy']\n",
    ")"
   ]
  },
  {
   "cell_type": "code",
   "execution_count": 6,
   "id": "1bbc403d",
   "metadata": {},
   "outputs": [
    {
     "name": "stdout",
     "output_type": "stream",
     "text": [
      "Model: \"sequential\"\n",
      "_________________________________________________________________\n",
      " Layer (type)                Output Shape              Param #   \n",
      "=================================================================\n",
      " embedding (Embedding)       (None, None, 32)          160000    \n",
      "                                                                 \n",
      " dropout (Dropout)           (None, None, 32)          0         \n",
      "                                                                 \n",
      " lstm (LSTM)                 (None, 100)               53200     \n",
      "                                                                 \n",
      " dropout_1 (Dropout)         (None, 100)               0         \n",
      "                                                                 \n",
      " dense (Dense)               (None, 1)                 101       \n",
      "                                                                 \n",
      "=================================================================\n",
      "Total params: 213,301\n",
      "Trainable params: 213,301\n",
      "Non-trainable params: 0\n",
      "_________________________________________________________________\n"
     ]
    }
   ],
   "source": [
    "model.summary()"
   ]
  },
  {
   "cell_type": "code",
   "execution_count": 8,
   "id": "ced10470",
   "metadata": {},
   "outputs": [
    {
     "name": "stdout",
     "output_type": "stream",
     "text": [
      "Epoch 1/7\n",
      "391/391 [==============================] - 34s 84ms/step - loss: 0.4573 - accuracy: 0.7729 - val_loss: 0.3621 - val_accuracy: 0.8398\n",
      "Epoch 2/7\n",
      "391/391 [==============================] - 36s 92ms/step - loss: 0.3206 - accuracy: 0.8635 - val_loss: 0.3637 - val_accuracy: 0.8405\n",
      "Epoch 3/7\n",
      "391/391 [==============================] - 36s 91ms/step - loss: 0.2907 - accuracy: 0.8802 - val_loss: 0.3607 - val_accuracy: 0.8404\n",
      "Epoch 4/7\n",
      "391/391 [==============================] - 35s 90ms/step - loss: 0.2578 - accuracy: 0.8950 - val_loss: 0.3745 - val_accuracy: 0.8355\n",
      "Epoch 5/7\n",
      "391/391 [==============================] - 35s 89ms/step - loss: 0.2313 - accuracy: 0.9048 - val_loss: 0.4103 - val_accuracy: 0.8300\n",
      "Epoch 6/7\n",
      "391/391 [==============================] - 35s 90ms/step - loss: 0.2066 - accuracy: 0.9155 - val_loss: 0.4686 - val_accuracy: 0.8218\n",
      "Epoch 7/7\n",
      "391/391 [==============================] - 34s 87ms/step - loss: 0.1862 - accuracy: 0.9236 - val_loss: 0.4720 - val_accuracy: 0.8249\n"
     ]
    },
    {
     "data": {
      "text/plain": [
       "<keras.callbacks.History at 0x22824e6f910>"
      ]
     },
     "execution_count": 8,
     "metadata": {},
     "output_type": "execute_result"
    }
   ],
   "source": [
    "# Обучаем нейронную сеть (данные для обучения, ответы к данным для обучения, количество рецензий после анализа которого будут изменены веса, число эпох обучения, тестовые данные, показывать progress bar или нет)\n",
    "model.fit(\n",
    "    X_train, \n",
    "    y_train, \n",
    "    batch_size = 64,\n",
    "    epochs = 7,\n",
    "    validation_data = (X_test, y_test),\n",
    "    verbose = 1\n",
    ")"
   ]
  },
  {
   "cell_type": "code",
   "execution_count": 9,
   "id": "565d5757",
   "metadata": {},
   "outputs": [
    {
     "name": "stdout",
     "output_type": "stream",
     "text": [
      "391/391 [==============================] - 8s 20ms/step - loss: 0.4720 - accuracy: 0.8249\n",
      "Точность на тестовых данных: 82.49%\n"
     ]
    }
   ],
   "source": [
    "# Проверяем качество обучения на тестовых данных (если есть данные, которые не участвовали в обучении, лучше использовать их, но в нашем случае таковых нет)\n",
    "scores = model.evaluate(X_test, y_test, batch_size = 64)\n",
    "\n",
    "print('Точность на тестовых данных: %.2f%%' % (scores[1] * 100))"
   ]
  },
  {
   "cell_type": "code",
   "execution_count": null,
   "id": "cf5e3cdc",
   "metadata": {},
   "outputs": [],
   "source": []
  }
 ],
 "metadata": {
  "kernelspec": {
   "display_name": "Python 3 (ipykernel)",
   "language": "python",
   "name": "python3"
  },
  "language_info": {
   "codemirror_mode": {
    "name": "ipython",
    "version": 3
   },
   "file_extension": ".py",
   "mimetype": "text/x-python",
   "name": "python",
   "nbconvert_exporter": "python",
   "pygments_lexer": "ipython3",
   "version": "3.10.11"
  }
 },
 "nbformat": 4,
 "nbformat_minor": 5
}
